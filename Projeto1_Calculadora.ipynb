{
  "nbformat": 4,
  "nbformat_minor": 0,
  "metadata": {
    "colab": {
      "provenance": [],
      "authorship_tag": "ABX9TyMeGRvin1YBJEuYjcDEYJrH",
      "include_colab_link": true
    },
    "kernelspec": {
      "name": "python3",
      "display_name": "Python 3"
    },
    "language_info": {
      "name": "python"
    }
  },
  "cells": [
    {
      "cell_type": "markdown",
      "metadata": {
        "id": "view-in-github",
        "colab_type": "text"
      },
      "source": [
        "<a href=\"https://colab.research.google.com/github/1josehenrique/calculadora_python/blob/main/Projeto1_Calculadora.ipynb\" target=\"_parent\"><img src=\"https://colab.research.google.com/assets/colab-badge.svg\" alt=\"Open In Colab\"/></a>"
      ]
    },
    {
      "cell_type": "markdown",
      "source": [
        "\n",
        "## PROJETO 01 - CALCULADORA EM PYTHON"
      ],
      "metadata": {
        "id": "jfCYUx2so1p-"
      }
    },
    {
      "cell_type": "code",
      "execution_count": null,
      "metadata": {
        "id": "mAx6efyvohy9"
      },
      "outputs": [],
      "source": [
        "from IPython.display import clear_output\n",
        "\n",
        "while True:\n",
        "\n",
        "  print(\"Digite: \")\n",
        "  print(\" \")\n",
        "  print(\"1 para Soma\")\n",
        "  print(\"2 para Subtração\")\n",
        "  print(\"3 para Multiplicação\")\n",
        "  print(\"4 para Divisão\")\n",
        "  print(\"5 para Exponenciação\")\n",
        "  print(\" \")\n",
        "\n",
        "  modo = int(input())\n",
        "\n",
        "  if modo == 1:  \n",
        "    print(\"====================\")\n",
        "    print(\"Você escolheu SOMA!\")\n",
        "    print(\"====================\")\n",
        "    print(\"Digite um número: \")\n",
        "    n1 = float(input())\n",
        "\n",
        "    print(\"Digite outro número: \")\n",
        "    n2 = float(input())\n",
        "\n",
        "    print(\"====================\")\n",
        "    resultado = n1 + n2\n",
        "\n",
        "    print(\"{} + {} = {}\".format(n1, n2, resultado))\n",
        "    print(\"====================\")\n",
        "\n",
        "  elif modo == 2:  \n",
        "    print(\"====================\")\n",
        "    print(\"Você escolheu SUBTRAÇÃO!\")\n",
        "    print(\"====================\")\n",
        "    print(\"Digite um número: \")\n",
        "    n1 = float(input())\n",
        "\n",
        "    print(\"Digite outro número: \")\n",
        "    n2 = float(input())\n",
        "\n",
        "    print(\"====================\")\n",
        "    resultado = n1 - n2\n",
        "\n",
        "    print(\"{} - {} = {}\".format(n1, n2, resultado))\n",
        "    print(\"====================\")\n",
        "\n",
        "  elif modo == 3:  \n",
        "    print(\"====================\")\n",
        "    print(\"Você escolheu MULTIPLICAÇÃO!\")\n",
        "    print(\"====================\")\n",
        "    print(\"Digite um número: \")\n",
        "    n1 = float(input())\n",
        "\n",
        "    print(\"Digite outro número: \")\n",
        "    n2 = float(input())\n",
        "\n",
        "    print(\"====================\")\n",
        "    resultado = n1 * n2\n",
        "\n",
        "    print(\"{} x {} = {}\".format(n1, n2, resultado))\n",
        "    print(\"====================\")\n",
        "\n",
        "  elif modo == 4:  \n",
        "    print(\"====================\")\n",
        "    print(\"Você escolheu DIVISÃO!\")\n",
        "    print(\"====================\")\n",
        "    print(\"Digite um número: \")\n",
        "    n1 = float(input())\n",
        "\n",
        "    print(\"Digite outro número: \")\n",
        "    n2 = float(input())\n",
        "\n",
        "    print(\"====================\")\n",
        "    resultado = n1 / n2\n",
        "\n",
        "    print(\"{} / {} = {}\".format(n1, n2, resultado))\n",
        "    print(\"====================\")\n",
        "\n",
        "  elif modo == 5:  \n",
        "    print(\"====================\")\n",
        "    print(\"Você escolheu EXPONENCIAÇÃO!\")\n",
        "    print(\"====================\")\n",
        "    print(\"Valor da base: \")\n",
        "    base = float(input())\n",
        "\n",
        "    print(\"Valor do expoente: \")\n",
        "    expoente = float(input())\n",
        "\n",
        "    print(\"====================\")\n",
        "    resultado = pow(base, expoente)\n",
        "\n",
        "    print(\"{} ^ {} = {}\".format(base, expoente, resultado))\n",
        "    print(\"====================\")\n",
        "\n",
        "    clear_output(wait=True)\n",
        "\n",
        "  resposta = input(\"Deseja fazer outro cálculo? (s/n): \")\n",
        "  if resposta.lower() != 's':\n",
        "    break\n",
        "\n",
        "\n"
      ]
    }
  ]
}